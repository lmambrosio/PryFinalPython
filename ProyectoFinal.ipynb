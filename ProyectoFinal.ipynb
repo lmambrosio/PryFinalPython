{
 "cells": [
  {
   "cell_type": "code",
   "execution_count": 13,
   "id": "collect-cambridge",
   "metadata": {},
   "outputs": [],
   "source": [
    "import pandas as pd\n",
    "import numpy as np\n",
    "import matplotlib.pyplot as plt\n",
    "import seaborn as sns\n",
    "from sklearn import svm"
   ]
  },
  {
   "cell_type": "code",
   "execution_count": 47,
   "id": "diverse-mountain",
   "metadata": {},
   "outputs": [],
   "source": [
    "class regresion_lineal:\n",
    "    def __init__(self, path, filename):\n",
    "        self.data_array = np.load(path+filename)\n",
    "\n",
    "        self.entrenamiento = self.data_array#self.data_array[0 : int(len(self.data_array) * .80)]\n",
    "        self.pruebas = self.data_array[int(len(self.data_array) * .80) : int(len(self.data_array) * 1)]\n",
    "        \n",
    "        print(self.media(self.entrenamiento))\n",
    "        print(self.numeroMaximo(self.entrenamiento))\n",
    "        print(self.numeroMinimo(self.entrenamiento))\n",
    "        print(self.rango(self.entrenamiento))\n",
    "        print(self.desviacionEstandar(self.entrenamiento))\n",
    "        \n",
    "    def media(self, arr):\n",
    "        return np.median(arr,axis=0)\n",
    "    \n",
    "    def numeroMaximo(self,arr):\n",
    "        return np.amax(arr,axis=0)\n",
    "    \n",
    "    def numeroMinimo(self,arr):\n",
    "        return np.amin(arr,axis=0)\n",
    "    \n",
    "    def rango(self,arr):\n",
    "        return np.ptp(arr,axis=0)\n",
    "    \n",
    "    def desviacionEstandar(self,arr):\n",
    "        return np.std(arr,axis=0)"
   ]
  },
  {
   "cell_type": "code",
   "execution_count": 48,
   "id": "indonesian-deputy",
   "metadata": {},
   "outputs": [
    {
     "name": "stdout",
     "output_type": "stream",
     "text": [
      "[1.630e+05 6.000e+00 1.087e+03 6.000e+00 1.973e+03       nan]\n",
      "[7.550e+05 1.000e+01 4.692e+03 1.400e+01 2.010e+03       nan]\n",
      "[3.490e+04 1.000e+00 3.340e+02 2.000e+00 1.872e+03       nan]\n",
      "[7.201e+05 9.000e+00 4.358e+03 1.200e+01 1.380e+02       nan]\n",
      "[7.94152919e+04 1.38252284e+00 3.86455322e+02 1.62483655e+00\n",
      " 3.01925588e+01            nan]\n"
     ]
    }
   ],
   "source": [
    "path = \"C:\\\\Users\\\\Marcela Ambrosio\\\\OneDrive\\\\Documentos\\\\Galileo\\\\Ciencia de Datos en python\\\\Proyecto Final\\\\proyecto_data\\\\\"\n",
    "file_name = \"proyecto_training_data.npy\"\n",
    "pryfinal = regresion_lineal(path,file_name)"
   ]
  },
  {
   "cell_type": "code",
   "execution_count": null,
   "id": "equivalent-direction",
   "metadata": {},
   "outputs": [],
   "source": []
  }
 ],
 "metadata": {
  "kernelspec": {
   "display_name": "Python 3",
   "language": "python",
   "name": "python3"
  },
  "language_info": {
   "codemirror_mode": {
    "name": "ipython",
    "version": 3
   },
   "file_extension": ".py",
   "mimetype": "text/x-python",
   "name": "python",
   "nbconvert_exporter": "python",
   "pygments_lexer": "ipython3",
   "version": "3.8.8"
  }
 },
 "nbformat": 4,
 "nbformat_minor": 5
}
